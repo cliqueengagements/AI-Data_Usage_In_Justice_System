{
  "cells": [
    {
      "cell_type": "code",
      "execution_count": null,
      "id": "d08dc256",
      "metadata": {
        "colab": {
          "base_uri": "https://localhost:8080/"
        },
        "id": "d08dc256",
        "outputId": "9da0b487-6e19-4e73-abb3-038202aeb9c7"
      },
      "outputs": [
        {
          "name": "stdout",
          "output_type": "stream",
          "text": [
            "Looking in indexes: https://pypi.org/simple, https://us-python.pkg.dev/colab-wheels/public/simple/\n",
            "Requirement already satisfied: mlxtend in /usr/local/lib/python3.7/dist-packages (0.21.0)\n",
            "Requirement already satisfied: scikit-learn>=1.0.2 in /usr/local/lib/python3.7/dist-packages (from mlxtend) (1.0.2)\n",
            "Requirement already satisfied: joblib>=0.13.2 in /usr/local/lib/python3.7/dist-packages (from mlxtend) (1.1.0)\n",
            "Requirement already satisfied: matplotlib>=3.0.0 in /usr/local/lib/python3.7/dist-packages (from mlxtend) (3.2.2)\n",
            "Requirement already satisfied: scipy>=1.2.1 in /usr/local/lib/python3.7/dist-packages (from mlxtend) (1.7.3)\n",
            "Requirement already satisfied: numpy>=1.16.2 in /usr/local/lib/python3.7/dist-packages (from mlxtend) (1.21.6)\n",
            "Requirement already satisfied: setuptools in /usr/local/lib/python3.7/dist-packages (from mlxtend) (57.4.0)\n",
            "Requirement already satisfied: pandas>=0.24.2 in /usr/local/lib/python3.7/dist-packages (from mlxtend) (1.3.5)\n",
            "Requirement already satisfied: cycler>=0.10 in /usr/local/lib/python3.7/dist-packages (from matplotlib>=3.0.0->mlxtend) (0.11.0)\n",
            "Requirement already satisfied: python-dateutil>=2.1 in /usr/local/lib/python3.7/dist-packages (from matplotlib>=3.0.0->mlxtend) (2.8.2)\n",
            "Requirement already satisfied: pyparsing!=2.0.4,!=2.1.2,!=2.1.6,>=2.0.1 in /usr/local/lib/python3.7/dist-packages (from matplotlib>=3.0.0->mlxtend) (3.0.9)\n",
            "Requirement already satisfied: kiwisolver>=1.0.1 in /usr/local/lib/python3.7/dist-packages (from matplotlib>=3.0.0->mlxtend) (1.4.4)\n",
            "Requirement already satisfied: typing-extensions in /usr/local/lib/python3.7/dist-packages (from kiwisolver>=1.0.1->matplotlib>=3.0.0->mlxtend) (4.1.1)\n",
            "Requirement already satisfied: pytz>=2017.3 in /usr/local/lib/python3.7/dist-packages (from pandas>=0.24.2->mlxtend) (2022.2.1)\n",
            "Requirement already satisfied: six>=1.5 in /usr/local/lib/python3.7/dist-packages (from python-dateutil>=2.1->matplotlib>=3.0.0->mlxtend) (1.15.0)\n",
            "Requirement already satisfied: threadpoolctl>=2.0.0 in /usr/local/lib/python3.7/dist-packages (from scikit-learn>=1.0.2->mlxtend) (3.1.0)\n"
          ]
        }
      ],
      "source": [
        "%pip install mlxtend --upgrade\n",
        "import numpy as np\n",
        "from sklearn.ensemble import RandomForestClassifier\n",
        "\n",
        "import pandas as pd\n",
        "import statsmodels.api as sm\n",
        "import matplotlib.pyplot as plt\n",
        "import seaborn as sns\n",
        "import random as rand\n",
        "\n",
        "from mlxtend.feature_selection import SequentialFeatureSelector as sfs\n",
        "from sklearn.model_selection import cross_val_score\n",
        "from sklearn.metrics import accuracy_score, confusion_matrix, classification_report\n",
        "from sklearn.tree import DecisionTreeClassifier\n",
        "from sklearn import tree\n",
        "from sklearn.tree import plot_tree\n",
        "from mlxtend.plotting import plot_decision_regions\n",
        "from sklearn.linear_model import LogisticRegression"
      ]
    },
    {
      "cell_type": "code",
      "execution_count": null,
      "id": "f5c79eab",
      "metadata": {
        "id": "f5c79eab"
      },
      "outputs": [],
      "source": [
        "data = pd.read_csv('compas-scores-two-years.csv')"
      ]
    },
    {
      "cell_type": "code",
      "execution_count": null,
      "id": "91f95636",
      "metadata": {
        "colab": {
          "base_uri": "https://localhost:8080/"
        },
        "id": "91f95636",
        "outputId": "34e28a53-e549-49c4-e52e-549608846b58"
      },
      "outputs": [
        {
          "data": {
            "text/plain": [
              "Index(['id', 'name', 'first', 'last', 'compas_screening_date', 'sex', 'dob',\n",
              "       'age', 'age_cat', 'race', 'juv_fel_count', 'decile_score',\n",
              "       'juv_misd_count', 'juv_other_count', 'priors_count',\n",
              "       'days_b_screening_arrest', 'c_jail_in', 'c_jail_out', 'c_case_number',\n",
              "       'c_offense_date', 'c_arrest_date', 'c_days_from_compas',\n",
              "       'c_charge_degree', 'c_charge_desc', 'is_recid', 'r_case_number',\n",
              "       'r_charge_degree', 'r_days_from_arrest', 'r_offense_date',\n",
              "       'r_charge_desc', 'r_jail_in', 'r_jail_out', 'violent_recid',\n",
              "       'is_violent_recid', 'vr_case_number', 'vr_charge_degree',\n",
              "       'vr_offense_date', 'vr_charge_desc', 'type_of_assessment',\n",
              "       'decile_score.1', 'score_text', 'screening_date',\n",
              "       'v_type_of_assessment', 'v_decile_score', 'v_score_text',\n",
              "       'v_screening_date', 'in_custody', 'out_custody', 'priors_count.1',\n",
              "       'start', 'end', 'event', 'two_year_recid'],\n",
              "      dtype='object')"
            ]
          },
          "execution_count": 35,
          "metadata": {},
          "output_type": "execute_result"
        }
      ],
      "source": [
        "data.columns"
      ]
    },
    {
      "cell_type": "code",
      "execution_count": null,
      "id": "de8cb818",
      "metadata": {
        "colab": {
          "base_uri": "https://localhost:8080/"
        },
        "id": "de8cb818",
        "outputId": "58e81a40-ade6-454f-ae77-f581806dad86"
      },
      "outputs": [
        {
          "data": {
            "text/plain": [
              "7214"
            ]
          },
          "execution_count": 36,
          "metadata": {},
          "output_type": "execute_result"
        }
      ],
      "source": [
        "len(data)"
      ]
    },
    {
      "cell_type": "code",
      "execution_count": null,
      "id": "7bc60214",
      "metadata": {
        "colab": {
          "base_uri": "https://localhost:8080/"
        },
        "id": "7bc60214",
        "outputId": "91d8a5fe-ef4b-4cdf-8599-f0fdd4760f3d"
      },
      "outputs": [
        {
          "data": {
            "text/plain": [
              "7214"
            ]
          },
          "execution_count": 37,
          "metadata": {},
          "output_type": "execute_result"
        }
      ],
      "source": [
        "len(data.drop_duplicates())"
      ]
    },
    {
      "cell_type": "code",
      "execution_count": null,
      "id": "ff3db806",
      "metadata": {
        "colab": {
          "base_uri": "https://localhost:8080/"
        },
        "id": "ff3db806",
        "outputId": "7ab10c2e-66f4-48e8-bf0c-1383760e61d9"
      },
      "outputs": [
        {
          "data": {
            "text/plain": [
              "id                            0\n",
              "name                          0\n",
              "first                         0\n",
              "last                          0\n",
              "compas_screening_date         0\n",
              "sex                           0\n",
              "dob                           0\n",
              "age                           0\n",
              "age_cat                       0\n",
              "race                          0\n",
              "juv_fel_count                 0\n",
              "decile_score                  0\n",
              "juv_misd_count                0\n",
              "juv_other_count               0\n",
              "priors_count                  0\n",
              "days_b_screening_arrest     307\n",
              "c_jail_in                   307\n",
              "c_jail_out                  307\n",
              "c_case_number                22\n",
              "c_offense_date             1159\n",
              "c_arrest_date              6077\n",
              "c_days_from_compas           22\n",
              "c_charge_degree               0\n",
              "c_charge_desc                29\n",
              "is_recid                      0\n",
              "r_case_number              3743\n",
              "r_charge_degree            3743\n",
              "r_days_from_arrest         4898\n",
              "r_offense_date             3743\n",
              "r_charge_desc              3801\n",
              "r_jail_in                  4898\n",
              "r_jail_out                 4898\n",
              "violent_recid              7214\n",
              "is_violent_recid              0\n",
              "vr_case_number             6395\n",
              "vr_charge_degree           6395\n",
              "vr_offense_date            6395\n",
              "vr_charge_desc             6395\n",
              "type_of_assessment            0\n",
              "decile_score.1                0\n",
              "score_text                    0\n",
              "screening_date                0\n",
              "v_type_of_assessment          0\n",
              "v_decile_score                0\n",
              "v_score_text                  0\n",
              "v_screening_date              0\n",
              "in_custody                  236\n",
              "out_custody                 236\n",
              "priors_count.1                0\n",
              "start                         0\n",
              "end                           0\n",
              "event                         0\n",
              "two_year_recid                0\n",
              "dtype: int64"
            ]
          },
          "execution_count": 38,
          "metadata": {},
          "output_type": "execute_result"
        }
      ],
      "source": [
        "data.isna().sum()"
      ]
    },
    {
      "cell_type": "code",
      "execution_count": null,
      "id": "46610185",
      "metadata": {
        "colab": {
          "base_uri": "https://localhost:8080/"
        },
        "id": "46610185",
        "outputId": "81b83e77-29d8-46b1-b9dd-cd2747007005"
      },
      "outputs": [
        {
          "data": {
            "text/plain": [
              "array(['Risk of Violence'], dtype=object)"
            ]
          },
          "execution_count": 39,
          "metadata": {},
          "output_type": "execute_result"
        }
      ],
      "source": [
        "# only one distinct value, drop\n",
        "data.v_type_of_assessment.unique()\n"
      ]
    },
    {
      "cell_type": "code",
      "execution_count": null,
      "id": "1362b7d9",
      "metadata": {
        "colab": {
          "base_uri": "https://localhost:8080/"
        },
        "id": "1362b7d9",
        "outputId": "3e7b5856-3d7b-4927-8e0e-5a57b9ade7fe"
      },
      "outputs": [
        {
          "data": {
            "text/plain": [
              "array(['Low', 'Medium', 'High'], dtype=object)"
            ]
          },
          "execution_count": 40,
          "metadata": {},
          "output_type": "execute_result"
        }
      ],
      "source": [
        "# choose one or another\n",
        "data.score_text.unique()\n",
        "data.v_score_text.unique()"
      ]
    },
    {
      "cell_type": "code",
      "execution_count": null,
      "id": "7285b0db",
      "metadata": {
        "colab": {
          "base_uri": "https://localhost:8080/"
        },
        "id": "7285b0db",
        "outputId": "27d83b6b-9132-415a-db0e-ec7e8b6fcbf9"
      },
      "outputs": [
        {
          "data": {
            "text/plain": [
              "array([ 0,  2,  1,  8,  4,  3,  9, 20,  6,  5, 10])"
            ]
          },
          "execution_count": 41,
          "metadata": {},
          "output_type": "execute_result"
        }
      ],
      "source": [
        "# could group but perform worse if grouped\n",
        "data.juv_fel_count.unique()"
      ]
    },
    {
      "cell_type": "code",
      "execution_count": null,
      "id": "853625bc",
      "metadata": {
        "id": "853625bc"
      },
      "outputs": [],
      "source": [
        "# transform \n",
        "data['compas_screening_date'] = pd.to_datetime(data['compas_screening_date'])"
      ]
    },
    {
      "cell_type": "code",
      "execution_count": null,
      "id": "64cf8feb",
      "metadata": {
        "id": "64cf8feb"
      },
      "outputs": [],
      "source": [
        "# duplicate columns\n",
        "data=data.drop(columns=['priors_count.1'])"
      ]
    },
    {
      "cell_type": "code",
      "execution_count": null,
      "id": "63123adc",
      "metadata": {
        "id": "63123adc"
      },
      "outputs": [],
      "source": [
        "# days between screening and arrest need to be between -30 and 30 for best accuracy of COMPAS Scores\n",
        "data=data.loc[(data['days_b_screening_arrest']<=30) & (data['days_b_screening_arrest']>=-30)]"
      ]
    },
    {
      "cell_type": "code",
      "execution_count": null,
      "id": "8920c61b",
      "metadata": {
        "colab": {
          "base_uri": "https://localhost:8080/",
          "height": 519
        },
        "id": "8920c61b",
        "outputId": "51a0d1d1-1dc0-499c-d02d-96016488a809"
      },
      "outputs": [
        {
          "data": {
            "text/plain": [
              "<matplotlib.axes._subplots.AxesSubplot at 0x7fb6b6117c90>"
            ]
          },
          "execution_count": 45,
          "metadata": {},
          "output_type": "execute_result"
        },
        {
          "data": {
            "image/png": "[encoded data removed]",
            "text/plain": [
              "<Figure size 1080x576 with 1 Axes>"
            ]
          },
          "metadata": {},
          "output_type": "display_data"
        }
      ],
      "source": [
        "sns.set(rc = {'figure.figsize':(15,8)})\n",
        "sns.histplot(data.age,kde=True)"
      ]
    },
    {
      "cell_type": "code",
      "execution_count": null,
      "id": "130dd5d8",
      "metadata": {
        "colab": {
          "base_uri": "https://localhost:8080/",
          "height": 382
        },
        "id": "130dd5d8",
        "outputId": "b413fef4-8d00-4de3-802c-b1a6c21edf61"
      },
      "outputs": [
        {
          "data": {
            "text/plain": [
              "<seaborn.axisgrid.FacetGrid at 0x7fb6b2d48e10>"
            ]
          },
          "execution_count": 46,
          "metadata": {},
          "output_type": "execute_result"
        },
        {
          "data": {
            "image/png": "[encoded data removed]",
            "text/plain": [
              "<Figure size 360x360 with 1 Axes>"
            ]
          },
          "metadata": {},
          "output_type": "display_data"
        }
      ],
      "source": [
        "sns.displot(data.sex)"
      ]
    },
    {
      "cell_type": "code",
      "execution_count": null,
      "id": "3825912d",
      "metadata": {
        "colab": {
          "base_uri": "https://localhost:8080/",
          "height": 519
        },
        "id": "3825912d",
        "outputId": "a25b09ea-2cb5-4cc4-df18-05b3078feaf9"
      },
      "outputs": [
        {
          "data": {
            "text/plain": [
              "<matplotlib.axes._subplots.AxesSubplot at 0x7fb6b2c91410>"
            ]
          },
          "execution_count": 47,
          "metadata": {},
          "output_type": "execute_result"
        },
        {
          "data": {
            "image/png": "[encoded data removed]",
            "text/plain": [
              "<Figure size 1080x576 with 1 Axes>"
            ]
          },
          "metadata": {},
          "output_type": "display_data"
        }
      ],
      "source": [
        "sns.histplot(data.compas_screening_date, kde=True)\n",
        "# For some reason the compas screening for 2013-07 and after 2014-04 are fewer, we will discover the reason in the future."
      ]
    },
    {
      "cell_type": "code",
      "execution_count": null,
      "id": "cf96113a",
      "metadata": {
        "colab": {
          "base_uri": "https://localhost:8080/",
          "height": 665
        },
        "id": "cf96113a",
        "outputId": "4fbc4298-f19d-43dd-feb9-581109a22757"
      },
      "outputs": [
        {
          "data": {
            "text/plain": [
              "[Text(0, 0, 'Other'),\n",
              " Text(0, 0, 'African-American'),\n",
              " Text(0, 0, 'Caucasian'),\n",
              " Text(0, 0, 'Hispanic'),\n",
              " Text(0, 0, 'Asian'),\n",
              " Text(0, 0, 'Native American')]"
            ]
          },
          "execution_count": 48,
          "metadata": {},
          "output_type": "execute_result"
        },
        {
          "data": {
            "image/png": "[encoded data removed]",
            "text/plain": [
              "<Figure size 1080x576 with 1 Axes>"
            ]
          },
          "metadata": {},
          "output_type": "display_data"
        }
      ],
      "source": [
        "ax = sns.countplot(x=\"race\", data=data)\n",
        "ax.set_xticklabels(ax.get_xticklabels(), rotation=40, ha=\"right\")"
      ]
    },
    {
      "cell_type": "code",
      "execution_count": null,
      "id": "1cc0cc30",
      "metadata": {
        "colab": {
          "base_uri": "https://localhost:8080/",
          "height": 519
        },
        "id": "1cc0cc30",
        "outputId": "21f2b51c-3a91-40bb-d4f2-c83b327f9172"
      },
      "outputs": [
        {
          "data": {
            "text/plain": [
              "<matplotlib.axes._subplots.AxesSubplot at 0x7fb6b2febc50>"
            ]
          },
          "execution_count": 49,
          "metadata": {},
          "output_type": "execute_result"
        },
        {
          "data": {
            "image/png": "[encoded data removed]",
            "text/plain": [
              "<Figure size 1080x576 with 1 Axes>"
            ]
          },
          "metadata": {},
          "output_type": "display_data"
        }
      ],
      "source": [
        "sns.histplot(data.is_recid)"
      ]
    },
    {
      "cell_type": "code",
      "execution_count": null,
      "id": "95bc00c9",
      "metadata": {
        "colab": {
          "base_uri": "https://localhost:8080/",
          "height": 519
        },
        "id": "95bc00c9",
        "outputId": "9bfa2ecd-c021-43ad-eec0-58b7e8d6035c"
      },
      "outputs": [
        {
          "data": {
            "text/plain": [
              "<matplotlib.axes._subplots.AxesSubplot at 0x7fb6b60e8950>"
            ]
          },
          "execution_count": 50,
          "metadata": {},
          "output_type": "execute_result"
        },
        {
          "data": {
            "image/png": "[encoded data removed]",
            "text/plain": [
              "<Figure size 1080x576 with 1 Axes>"
            ]
          },
          "metadata": {},
          "output_type": "display_data"
        }
      ],
      "source": [
        "sns.histplot(data.priors_count, kde=True)"
      ]
    },
    {
      "cell_type": "code",
      "execution_count": null,
      "id": "50ce0480",
      "metadata": {
        "colab": {
          "base_uri": "https://localhost:8080/",
          "height": 519
        },
        "id": "50ce0480",
        "outputId": "e7afe7dd-51af-44bb-d89e-dec95b5bc8f6"
      },
      "outputs": [
        {
          "data": {
            "text/plain": [
              "<matplotlib.axes._subplots.AxesSubplot at 0x7fb6b612f550>"
            ]
          },
          "execution_count": 51,
          "metadata": {},
          "output_type": "execute_result"
        },
        {
          "data": {
            "image/png": "[encoded data removed]",
            "text/plain": [
              "<Figure size 1080x576 with 1 Axes>"
            ]
          },
          "metadata": {},
          "output_type": "display_data"
        }
      ],
      "source": [
        "sns.histplot(data.score_text)"
      ]
    },
    {
      "cell_type": "code",
      "execution_count": null,
      "id": "3f8f4e21",
      "metadata": {
        "colab": {
          "base_uri": "https://localhost:8080/",
          "height": 615
        },
        "id": "3f8f4e21",
        "outputId": "58e6ba9f-fdcb-43c2-eed6-d90e84a58ba4"
      },
      "outputs": [
        {
          "data": {
            "image/png": "[encoded data removed]",
            "text/plain": [
              "<Figure size 1080x576 with 2 Axes>"
            ]
          },
          "metadata": {},
          "output_type": "display_data"
        }
      ],
      "source": [
        "sns.heatmap(data.corr());"
      ]
    },
    {
      "cell_type": "code",
      "execution_count": null,
      "id": "07f019f0",
      "metadata": {
        "id": "07f019f0"
      },
      "outputs": [],
      "source": [
        "from warnings import filterwarnings\n",
        "filterwarnings('ignore')"
      ]
    },
    {
      "cell_type": "code",
      "execution_count": null,
      "id": "f424324b-907c-40ff-b410-614eb7ef0578",
      "metadata": {
        "id": "f424324b-907c-40ff-b410-614eb7ef0578"
      },
      "outputs": [],
      "source": [
        "lreg = LogisticRegression()"
      ]
    },
    {
      "cell_type": "code",
      "execution_count": null,
      "id": "79b6c900-b099-4c7e-85b8-25de18412718",
      "metadata": {
        "id": "79b6c900-b099-4c7e-85b8-25de18412718"
      },
      "outputs": [],
      "source": [
        "sfs1 = sfs(lreg, k_features=15, forward=False, verbose=0, scoring='accuracy')\n",
        "sfs1 = sfs1.fit(data.loc[:, data.columns != 'two_year_recid'], data['two_year_recid'])"
      ]
    },
    {
      "cell_type": "code",
      "execution_count": null,
      "id": "73b0a5d8",
      "metadata": {
        "colab": {
          "base_uri": "https://localhost:8080/"
        },
        "id": "73b0a5d8",
        "outputId": "388eefa6-40ad-4882-a5a4-2fb5e2bd3c6a"
      },
      "outputs": [
        {
          "name": "stdout",
          "output_type": "stream",
          "text": [
            "['id', 'name', 'first', 'last', 'compas_screening_date', 'sex', 'dob', 'age', 'age_cat', 'race', 'juv_fel_count', 'decile_score', 'juv_misd_count', 'juv_other_count', 'priors_count', 'days_b_screening_arrest', 'c_jail_in', 'c_jail_out', 'c_case_number', 'c_offense_date', 'c_arrest_date', 'c_days_from_compas', 'c_charge_degree', 'c_charge_desc', 'is_recid', 'r_case_number', 'r_charge_degree', 'r_days_from_arrest', 'r_offense_date', 'r_charge_desc', 'r_jail_in', 'r_jail_out', 'violent_recid', 'is_violent_recid', 'vr_case_number', 'vr_charge_degree', 'vr_offense_date', 'vr_charge_desc', 'type_of_assessment', 'decile_score.1', 'score_text', 'screening_date', 'v_type_of_assessment', 'v_decile_score', 'v_score_text', 'v_screening_date', 'in_custody', 'out_custody', 'start', 'end', 'event']\n"
          ]
        }
      ],
      "source": [
        "feat_names = list(sfs1.k_feature_names_)\n",
        "print(feat_names)"
      ]
    },
    {
      "cell_type": "code",
      "execution_count": null,
      "id": "87d92dde",
      "metadata": {
        "id": "87d92dde"
      },
      "outputs": [],
      "source": [
        "\n",
        "features = ['sex','age_cat','race','decile_score','priors_count','c_charge_degree','is_violent_recid','score_text']\n",
        "features2=['c_charge_degree', 'race', 'age_cat', 'score_text', 'sex', \n",
        "                    'days_b_screening_arrest', 'decile_score','priors_count']\n",
        "labels = ['two_year_recid']\n",
        "df = data [features + labels]\n",
        "df2= data[features2 + labels]\n"
      ]
    },
    {
      "cell_type": "code",
      "execution_count": null,
      "id": "3af6fc03",
      "metadata": {
        "id": "3af6fc03"
      },
      "outputs": [],
      "source": [
        "df = pd.get_dummies(df)   # hone-hot encoding\n",
        "df2 = pd.get_dummies(df2)"
      ]
    },
    {
      "cell_type": "code",
      "execution_count": null,
      "id": "667aaa4a",
      "metadata": {
        "id": "667aaa4a"
      },
      "outputs": [],
      "source": [
        "Y=df['two_year_recid']\n",
        "X=df.loc[:, df.columns != 'two_year_recid']"
      ]
    },
    {
      "cell_type": "code",
      "execution_count": null,
      "id": "e5ce54c5",
      "metadata": {
        "colab": {
          "base_uri": "https://localhost:8080/"
        },
        "id": "e5ce54c5",
        "outputId": "c2d302b8-d43b-4d1f-f3c7-99b245a581ac"
      },
      "outputs": [
        {
          "data": {
            "text/plain": [
              "1     1286\n",
              "2      822\n",
              "4      666\n",
              "3      647\n",
              "5      582\n",
              "6      529\n",
              "7      496\n",
              "9      420\n",
              "8      420\n",
              "10     304\n",
              "Name: decile_score, dtype: int64"
            ]
          },
          "execution_count": 60,
          "metadata": {},
          "output_type": "execute_result"
        }
      ],
      "source": [
        "X.decile_score.value_counts()"
      ]
    },
    {
      "cell_type": "code",
      "execution_count": null,
      "id": "a42de042",
      "metadata": {
        "id": "a42de042"
      },
      "outputs": [],
      "source": [
        "#Train and test split\n",
        "import random\n",
        "random.seed(101)\n",
        "df = df.sample(frac = 1, random_state = 42)\n",
        "\n",
        "X_train, X_val, X_test = np.split(X,[int(.5*len(df)),int(.75*len(df))])\n",
        "Y_train, Y_val, Y_test = np.split(Y,[int(.5*len(df)),int(.75*len(df))])"
      ]
    },
    {
      "cell_type": "code",
      "execution_count": null,
      "id": "6ceaaf32-ad8b-4e0a-aa1b-f477031edbd3",
      "metadata": {
        "colab": {
          "base_uri": "https://localhost:8080/"
        },
        "id": "6ceaaf32-ad8b-4e0a-aa1b-f477031edbd3",
        "outputId": "19c8d0e5-d4a2-493c-ba53-2c69d8e07547"
      },
      "outputs": [
        {
          "data": {
            "text/html": [
              "\n",
              "  <div id=\"df-8ed04ece-dae3-419e-919d-9250cab61b13\">\n",
              "    <div class=\"colab-df-container\">\n",
              "      <div>\n",
              "<style scoped>\n",
              "    .dataframe tbody tr th:only-of-type {\n",
              "        vertical-align: middle;\n",
              "    }\n",
              "\n",
              "    .dataframe tbody tr th {\n",
              "        vertical-align: top;\n",
              "    }\n",
              "\n",
              "    .dataframe thead th {\n",
              "        text-align: right;\n",
              "    }\n",
              "</style>\n",
              "<table border=\"1\" class=\"dataframe\">\n",
              "  <thead>\n",
              "    <tr style=\"text-align: right;\">\n",
              "      <th></th>\n",
              "      <th>decile_score</th>\n",
              "      <th>priors_count</th>\n",
              "      <th>is_violent_recid</th>\n",
              "      <th>sex_Female</th>\n",
              "      <th>sex_Male</th>\n",
              "      <th>age_cat_25 - 45</th>\n",
              "      <th>age_cat_Greater than 45</th>\n",
              "      <th>age_cat_Less than 25</th>\n",
              "      <th>race_African-American</th>\n",
              "      <th>race_Asian</th>\n",
              "      <th>race_Caucasian</th>\n",
              "      <th>race_Hispanic</th>\n",
              "      <th>race_Native American</th>\n",
              "      <th>race_Other</th>\n",
              "      <th>c_charge_degree_F</th>\n",
              "      <th>c_charge_degree_M</th>\n",
              "      <th>score_text_High</th>\n",
              "      <th>score_text_Low</th>\n",
              "      <th>score_text_Medium</th>\n",
              "    </tr>\n",
              "  </thead>\n",
              "  <tbody>\n",
              "    <tr>\n",
              "      <th>0</th>\n",
              "      <td>1</td>\n",
              "      <td>0</td>\n",
              "      <td>0</td>\n",
              "      <td>0</td>\n",
              "      <td>1</td>\n",
              "      <td>0</td>\n",
              "      <td>1</td>\n",
              "      <td>0</td>\n",
              "      <td>0</td>\n",
              "      <td>0</td>\n",
              "      <td>0</td>\n",
              "      <td>0</td>\n",
              "      <td>0</td>\n",
              "      <td>1</td>\n",
              "      <td>1</td>\n",
              "      <td>0</td>\n",
              "      <td>0</td>\n",
              "      <td>1</td>\n",
              "      <td>0</td>\n",
              "    </tr>\n",
              "    <tr>\n",
              "      <th>1</th>\n",
              "      <td>3</td>\n",
              "      <td>0</td>\n",
              "      <td>1</td>\n",
              "      <td>0</td>\n",
              "      <td>1</td>\n",
              "      <td>1</td>\n",
              "      <td>0</td>\n",
              "      <td>0</td>\n",
              "      <td>1</td>\n",
              "      <td>0</td>\n",
              "      <td>0</td>\n",
              "      <td>0</td>\n",
              "      <td>0</td>\n",
              "      <td>0</td>\n",
              "      <td>1</td>\n",
              "      <td>0</td>\n",
              "      <td>0</td>\n",
              "      <td>1</td>\n",
              "      <td>0</td>\n",
              "    </tr>\n",
              "    <tr>\n",
              "      <th>2</th>\n",
              "      <td>4</td>\n",
              "      <td>4</td>\n",
              "      <td>0</td>\n",
              "      <td>0</td>\n",
              "      <td>1</td>\n",
              "      <td>0</td>\n",
              "      <td>0</td>\n",
              "      <td>1</td>\n",
              "      <td>1</td>\n",
              "      <td>0</td>\n",
              "      <td>0</td>\n",
              "      <td>0</td>\n",
              "      <td>0</td>\n",
              "      <td>0</td>\n",
              "      <td>1</td>\n",
              "      <td>0</td>\n",
              "      <td>0</td>\n",
              "      <td>1</td>\n",
              "      <td>0</td>\n",
              "    </tr>\n",
              "    <tr>\n",
              "      <th>5</th>\n",
              "      <td>1</td>\n",
              "      <td>0</td>\n",
              "      <td>0</td>\n",
              "      <td>0</td>\n",
              "      <td>1</td>\n",
              "      <td>1</td>\n",
              "      <td>0</td>\n",
              "      <td>0</td>\n",
              "      <td>0</td>\n",
              "      <td>0</td>\n",
              "      <td>0</td>\n",
              "      <td>0</td>\n",
              "      <td>0</td>\n",
              "      <td>1</td>\n",
              "      <td>0</td>\n",
              "      <td>1</td>\n",
              "      <td>0</td>\n",
              "      <td>1</td>\n",
              "      <td>0</td>\n",
              "    </tr>\n",
              "    <tr>\n",
              "      <th>6</th>\n",
              "      <td>6</td>\n",
              "      <td>14</td>\n",
              "      <td>0</td>\n",
              "      <td>0</td>\n",
              "      <td>1</td>\n",
              "      <td>1</td>\n",
              "      <td>0</td>\n",
              "      <td>0</td>\n",
              "      <td>0</td>\n",
              "      <td>0</td>\n",
              "      <td>1</td>\n",
              "      <td>0</td>\n",
              "      <td>0</td>\n",
              "      <td>0</td>\n",
              "      <td>1</td>\n",
              "      <td>0</td>\n",
              "      <td>0</td>\n",
              "      <td>0</td>\n",
              "      <td>1</td>\n",
              "    </tr>\n",
              "    <tr>\n",
              "      <th>...</th>\n",
              "      <td>...</td>\n",
              "      <td>...</td>\n",
              "      <td>...</td>\n",
              "      <td>...</td>\n",
              "      <td>...</td>\n",
              "      <td>...</td>\n",
              "      <td>...</td>\n",
              "      <td>...</td>\n",
              "      <td>...</td>\n",
              "      <td>...</td>\n",
              "      <td>...</td>\n",
              "      <td>...</td>\n",
              "      <td>...</td>\n",
              "      <td>...</td>\n",
              "      <td>...</td>\n",
              "      <td>...</td>\n",
              "      <td>...</td>\n",
              "      <td>...</td>\n",
              "      <td>...</td>\n",
              "    </tr>\n",
              "    <tr>\n",
              "      <th>3610</th>\n",
              "      <td>1</td>\n",
              "      <td>1</td>\n",
              "      <td>0</td>\n",
              "      <td>0</td>\n",
              "      <td>1</td>\n",
              "      <td>0</td>\n",
              "      <td>1</td>\n",
              "      <td>0</td>\n",
              "      <td>1</td>\n",
              "      <td>0</td>\n",
              "      <td>0</td>\n",
              "      <td>0</td>\n",
              "      <td>0</td>\n",
              "      <td>0</td>\n",
              "      <td>0</td>\n",
              "      <td>1</td>\n",
              "      <td>0</td>\n",
              "      <td>1</td>\n",
              "      <td>0</td>\n",
              "    </tr>\n",
              "    <tr>\n",
              "      <th>3611</th>\n",
              "      <td>4</td>\n",
              "      <td>0</td>\n",
              "      <td>0</td>\n",
              "      <td>0</td>\n",
              "      <td>1</td>\n",
              "      <td>1</td>\n",
              "      <td>0</td>\n",
              "      <td>0</td>\n",
              "      <td>0</td>\n",
              "      <td>0</td>\n",
              "      <td>0</td>\n",
              "      <td>0</td>\n",
              "      <td>0</td>\n",
              "      <td>1</td>\n",
              "      <td>1</td>\n",
              "      <td>0</td>\n",
              "      <td>0</td>\n",
              "      <td>1</td>\n",
              "      <td>0</td>\n",
              "    </tr>\n",
              "    <tr>\n",
              "      <th>3612</th>\n",
              "      <td>1</td>\n",
              "      <td>1</td>\n",
              "      <td>0</td>\n",
              "      <td>0</td>\n",
              "      <td>1</td>\n",
              "      <td>1</td>\n",
              "      <td>0</td>\n",
              "      <td>0</td>\n",
              "      <td>0</td>\n",
              "      <td>0</td>\n",
              "      <td>1</td>\n",
              "      <td>0</td>\n",
              "      <td>0</td>\n",
              "      <td>0</td>\n",
              "      <td>0</td>\n",
              "      <td>1</td>\n",
              "      <td>0</td>\n",
              "      <td>1</td>\n",
              "      <td>0</td>\n",
              "    </tr>\n",
              "    <tr>\n",
              "      <th>3613</th>\n",
              "      <td>1</td>\n",
              "      <td>0</td>\n",
              "      <td>0</td>\n",
              "      <td>0</td>\n",
              "      <td>1</td>\n",
              "      <td>1</td>\n",
              "      <td>0</td>\n",
              "      <td>0</td>\n",
              "      <td>1</td>\n",
              "      <td>0</td>\n",
              "      <td>0</td>\n",
              "      <td>0</td>\n",
              "      <td>0</td>\n",
              "      <td>0</td>\n",
              "      <td>0</td>\n",
              "      <td>1</td>\n",
              "      <td>0</td>\n",
              "      <td>1</td>\n",
              "      <td>0</td>\n",
              "    </tr>\n",
              "    <tr>\n",
              "      <th>3614</th>\n",
              "      <td>1</td>\n",
              "      <td>1</td>\n",
              "      <td>0</td>\n",
              "      <td>0</td>\n",
              "      <td>1</td>\n",
              "      <td>0</td>\n",
              "      <td>1</td>\n",
              "      <td>0</td>\n",
              "      <td>0</td>\n",
              "      <td>0</td>\n",
              "      <td>1</td>\n",
              "      <td>0</td>\n",
              "      <td>0</td>\n",
              "      <td>0</td>\n",
              "      <td>1</td>\n",
              "      <td>0</td>\n",
              "      <td>0</td>\n",
              "      <td>1</td>\n",
              "      <td>0</td>\n",
              "    </tr>\n",
              "  </tbody>\n",
              "</table>\n",
              "<p>3086 rows × 19 columns</p>\n",
              "</div>\n",
              "      <button class=\"colab-df-convert\" onclick=\"convertToInteractive('df-8ed04ece-dae3-419e-919d-9250cab61b13')\"\n",
              "              title=\"Convert this dataframe to an interactive table.\"\n",
              "              style=\"display:none;\">\n",
              "        \n",
              "  <svg xmlns=\"http://www.w3.org/2000/svg\" height=\"24px\"viewBox=\"0 0 24 24\"\n",
              "       width=\"24px\">\n",
              "    <path d=\"M0 0h24v24H0V0z\" fill=\"none\"/>\n",
              "    <path d=\"M18.56 5.44l.94 2.06.94-2.06 2.06-.94-2.06-.94-.94-2.06-.94 2.06-2.06.94zm-11 1L8.5 8.5l.94-2.06 2.06-.94-2.06-.94L8.5 2.5l-.94 2.06-2.06.94zm10 10l.94 2.06.94-2.06 2.06-.94-2.06-.94-.94-2.06-.94 2.06-2.06.94z\"/><path d=\"M17.41 7.96l-1.37-1.37c-.4-.4-.92-.59-1.43-.59-.52 0-1.04.2-1.43.59L10.3 9.45l-7.72 7.72c-.78.78-.78 2.05 0 2.83L4 21.41c.39.39.9.59 1.41.59.51 0 1.02-.2 1.41-.59l7.78-7.78 2.81-2.81c.8-.78.8-2.07 0-2.86zM5.41 20L4 18.59l7.72-7.72 1.47 1.35L5.41 20z\"/>\n",
              "  </svg>\n",
              "      </button>\n",
              "      \n",
              "  <style>\n",
              "    .colab-df-container {\n",
              "      display:flex;\n",
              "      flex-wrap:wrap;\n",
              "      gap: 12px;\n",
              "    }\n",
              "\n",
              "    .colab-df-convert {\n",
              "      background-color: #E8F0FE;\n",
              "      border: none;\n",
              "      border-radius: 50%;\n",
              "      cursor: pointer;\n",
              "      display: none;\n",
              "      fill: #1967D2;\n",
              "      height: 32px;\n",
              "      padding: 0 0 0 0;\n",
              "      width: 32px;\n",
              "    }\n",
              "\n",
              "    .colab-df-convert:hover {\n",
              "      background-color: #E2EBFA;\n",
              "      box-shadow: 0px 1px 2px rgba(60, 64, 67, 0.3), 0px 1px 3px 1px rgba(60, 64, 67, 0.15);\n",
              "      fill: #174EA6;\n",
              "    }\n",
              "\n",
              "    [theme=dark] .colab-df-convert {\n",
              "      background-color: #3B4455;\n",
              "      fill: #D2E3FC;\n",
              "    }\n",
              "\n",
              "    [theme=dark] .colab-df-convert:hover {\n",
              "      background-color: #434B5C;\n",
              "      box-shadow: 0px 1px 3px 1px rgba(0, 0, 0, 0.15);\n",
              "      filter: drop-shadow(0px 1px 2px rgba(0, 0, 0, 0.3));\n",
              "      fill: #FFFFFF;\n",
              "    }\n",
              "  </style>\n",
              "\n",
              "      <script>\n",
              "        const buttonEl =\n",
              "          document.querySelector('#df-8ed04ece-dae3-419e-919d-9250cab61b13 button.colab-df-convert');\n",
              "        buttonEl.style.display =\n",
              "          google.colab.kernel.accessAllowed ? 'block' : 'none';\n",
              "\n",
              "        async function convertToInteractive(key) {\n",
              "          const element = document.querySelector('#df-8ed04ece-dae3-419e-919d-9250cab61b13');\n",
              "          const dataTable =\n",
              "            await google.colab.kernel.invokeFunction('convertToInteractive',\n",
              "                                                     [key], {});\n",
              "          if (!dataTable) return;\n",
              "\n",
              "          const docLinkHtml = 'Like what you see? Visit the ' +\n",
              "            '<a target=\"_blank\" href=https://colab.research.google.com/notebooks/data_table.ipynb>data table notebook</a>'\n",
              "            + ' to learn more about interactive tables.';\n",
              "          element.innerHTML = '';\n",
              "          dataTable['output_type'] = 'display_data';\n",
              "          await google.colab.output.renderOutput(dataTable, element);\n",
              "          const docLink = document.createElement('div');\n",
              "          docLink.innerHTML = docLinkHtml;\n",
              "          element.appendChild(docLink);\n",
              "        }\n",
              "      </script>\n",
              "    </div>\n",
              "  </div>\n",
              "  "
            ],
            "text/plain": [
              "      decile_score  priors_count  is_violent_recid  sex_Female  sex_Male  \\\n",
              "0                1             0                 0           0         1   \n",
              "1                3             0                 1           0         1   \n",
              "2                4             4                 0           0         1   \n",
              "5                1             0                 0           0         1   \n",
              "6                6            14                 0           0         1   \n",
              "...            ...           ...               ...         ...       ...   \n",
              "3610             1             1                 0           0         1   \n",
              "3611             4             0                 0           0         1   \n",
              "3612             1             1                 0           0         1   \n",
              "3613             1             0                 0           0         1   \n",
              "3614             1             1                 0           0         1   \n",
              "\n",
              "      age_cat_25 - 45  age_cat_Greater than 45  age_cat_Less than 25  \\\n",
              "0                   0                        1                     0   \n",
              "1                   1                        0                     0   \n",
              "2                   0                        0                     1   \n",
              "5                   1                        0                     0   \n",
              "6                   1                        0                     0   \n",
              "...               ...                      ...                   ...   \n",
              "3610                0                        1                     0   \n",
              "3611                1                        0                     0   \n",
              "3612                1                        0                     0   \n",
              "3613                1                        0                     0   \n",
              "3614                0                        1                     0   \n",
              "\n",
              "      race_African-American  race_Asian  race_Caucasian  race_Hispanic  \\\n",
              "0                         0           0               0              0   \n",
              "1                         1           0               0              0   \n",
              "2                         1           0               0              0   \n",
              "5                         0           0               0              0   \n",
              "6                         0           0               1              0   \n",
              "...                     ...         ...             ...            ...   \n",
              "3610                      1           0               0              0   \n",
              "3611                      0           0               0              0   \n",
              "3612                      0           0               1              0   \n",
              "3613                      1           0               0              0   \n",
              "3614                      0           0               1              0   \n",
              "\n",
              "      race_Native American  race_Other  c_charge_degree_F  c_charge_degree_M  \\\n",
              "0                        0           1                  1                  0   \n",
              "1                        0           0                  1                  0   \n",
              "2                        0           0                  1                  0   \n",
              "5                        0           1                  0                  1   \n",
              "6                        0           0                  1                  0   \n",
              "...                    ...         ...                ...                ...   \n",
              "3610                     0           0                  0                  1   \n",
              "3611                     0           1                  1                  0   \n",
              "3612                     0           0                  0                  1   \n",
              "3613                     0           0                  0                  1   \n",
              "3614                     0           0                  1                  0   \n",
              "\n",
              "      score_text_High  score_text_Low  score_text_Medium  \n",
              "0                   0               1                  0  \n",
              "1                   0               1                  0  \n",
              "2                   0               1                  0  \n",
              "5                   0               1                  0  \n",
              "6                   0               0                  1  \n",
              "...               ...             ...                ...  \n",
              "3610                0               1                  0  \n",
              "3611                0               1                  0  \n",
              "3612                0               1                  0  \n",
              "3613                0               1                  0  \n",
              "3614                0               1                  0  \n",
              "\n",
              "[3086 rows x 19 columns]"
            ]
          },
          "execution_count": 62,
          "metadata": {},
          "output_type": "execute_result"
        }
      ],
      "source": [
        "X_train"
      ]
    },
    {
      "cell_type": "code",
      "execution_count": null,
      "id": "955ccd5a",
      "metadata": {
        "id": "955ccd5a"
      },
      "outputs": [],
      "source": [
        "rdc=RandomForestClassifier(n_estimators=100, random_state = 666)\n"
      ]
    },
    {
      "cell_type": "code",
      "execution_count": null,
      "id": "a814b2e3",
      "metadata": {
        "colab": {
          "base_uri": "https://localhost:8080/"
        },
        "id": "a814b2e3",
        "outputId": "aafc378e-f8c9-46cf-a0b4-b637b717b68e"
      },
      "outputs": [
        {
          "data": {
            "text/plain": [
              "RandomForestClassifier(random_state=666)"
            ]
          },
          "execution_count": 64,
          "metadata": {},
          "output_type": "execute_result"
        }
      ],
      "source": [
        "rdc.fit(X_train,Y_train)\n"
      ]
    },
    {
      "cell_type": "code",
      "execution_count": null,
      "id": "1e863677",
      "metadata": {
        "colab": {
          "base_uri": "https://localhost:8080/"
        },
        "id": "1e863677",
        "outputId": "ab152eb9-47c0-49b0-d620-72a7695555dc"
      },
      "outputs": [
        {
          "data": {
            "text/plain": [
              "0.3149708360337006"
            ]
          },
          "execution_count": 65,
          "metadata": {},
          "output_type": "execute_result"
        }
      ],
      "source": [
        "pred = rdc.predict(X_test)\n",
        "conf_mat = confusion_matrix(Y_test, pred)\n",
        "np.sum(pred != Y_test.to_numpy().flatten()) / len(Y_test)"
      ]
    },
    {
      "cell_type": "code",
      "execution_count": null,
      "id": "768f4525-3741-48de-a132-2f6bdc32cb9e",
      "metadata": {
        "colab": {
          "base_uri": "https://localhost:8080/"
        },
        "id": "768f4525-3741-48de-a132-2f6bdc32cb9e",
        "outputId": "483242a9-bfb7-426c-ac49-5e6512ee830c"
      },
      "outputs": [
        {
          "name": "stdout",
          "output_type": "stream",
          "text": [
            "0.6713615023474179\n",
            "0.6085106382978723\n",
            "0.6850291639662994\n"
          ]
        }
      ],
      "source": [
        "from sklearn.metrics import precision_score\n",
        "from sklearn.metrics import recall_score\n",
        "from sklearn.metrics import accuracy_score\n",
        "precision = precision_score(Y_test, pred, average='binary')\n",
        "recall = recall_score(Y_test, pred, average='binary')\n",
        "accuracy = accuracy_score(Y_test, pred)\n",
        "print(precision)\n",
        "print(recall)\n",
        "print(accuracy)"
      ]
    },
    {
      "cell_type": "code",
      "execution_count": null,
      "id": "0c6de81c",
      "metadata": {
        "colab": {
          "base_uri": "https://localhost:8080/"
        },
        "id": "0c6de81c",
        "outputId": "b69b74c6-5c33-4818-c77e-16c4ab4af869"
      },
      "outputs": [
        {
          "data": {
            "image/png": "[encoded data removed]",
            "text/plain": [
              "<Figure size 1080x576 with 1 Axes>"
            ]
          },
          "metadata": {},
          "output_type": "display_data"
        }
      ],
      "source": [
        "importance = rdc.feature_importances_\n",
        "sorted_indices = np.argsort(importance)[::-1]\n",
        "plt.title('Feature Importance')\n",
        "plt.bar(range(X.shape[1]), importance[sorted_indices], align='center')\n",
        "plt.xticks(range(X.shape[1]), X.columns[sorted_indices], rotation=90)\n",
        "plt.tight_layout()\n",
        "plt.show()"
      ]
    },
    {
      "cell_type": "markdown",
      "id": "77b06415",
      "metadata": {
        "id": "77b06415"
      },
      "source": [
        "# Random forest with grid search"
      ]
    },
    {
      "cell_type": "code",
      "execution_count": null,
      "id": "074db472",
      "metadata": {
        "colab": {
          "base_uri": "https://localhost:8080/"
        },
        "id": "074db472",
        "outputId": "1a2136ad-9085-46c4-e6f2-9c39683a7220"
      },
      "outputs": [
        {
          "name": "stdout",
          "output_type": "stream",
          "text": [
            "{'n_estimators': [200, 400, 600, 800, 1000, 1200, 1400, 1600, 1800, 2000], 'max_features': ['auto', 'sqrt'], 'max_depth': [10, 20, 30, 40, 50, 60, 70, 80, 90, 100, 110, None], 'min_samples_split': [2, 5, 10], 'min_samples_leaf': [1, 2, 4], 'bootstrap': [True, False]}\n"
          ]
        }
      ],
      "source": [
        "from sklearn.model_selection import RandomizedSearchCV\n",
        "# Number of trees in random forest\n",
        "n_estimators = [int(x) for x in np.linspace(start = 200, stop = 2000, num = 10)]\n",
        "# Number of features to consider at every split\n",
        "max_features = ['auto', 'sqrt']\n",
        "# Maximum number of levels in tree\n",
        "max_depth = [int(x) for x in np.linspace(10, 110, num = 11)]\n",
        "max_depth.append(None)\n",
        "# Minimum number of samples required to split a node\n",
        "min_samples_split = [2, 5, 10]\n",
        "# Minimum number of samples required at each leaf node\n",
        "min_samples_leaf = [1, 2, 4]\n",
        "# Method of selecting samples for training each tree\n",
        "bootstrap = [True, False]\n",
        "# Create the random grid\n",
        "random_grid = {'n_estimators': n_estimators,\n",
        "               'max_features': max_features,\n",
        "               'max_depth': max_depth,\n",
        "               'min_samples_split': min_samples_split,\n",
        "               'min_samples_leaf': min_samples_leaf,\n",
        "               'bootstrap': bootstrap}\n",
        "print(random_grid)"
      ]
    },
    {
      "cell_type": "code",
      "execution_count": null,
      "id": "3ab662d3",
      "metadata": {
        "colab": {
          "base_uri": "https://localhost:8080/"
        },
        "id": "3ab662d3",
        "outputId": "0377f394-08e9-43a3-cec8-729f4ea22f65"
      },
      "outputs": [
        {
          "name": "stdout",
          "output_type": "stream",
          "text": [
            "Fitting 3 folds for each of 100 candidates, totalling 300 fits\n"
          ]
        },
        {
          "data": {
            "text/plain": [
              "RandomizedSearchCV(cv=3, estimator=RandomForestClassifier(), n_iter=100,\n",
              "                   n_jobs=-1,\n",
              "                   param_distributions={'bootstrap': [True, False],\n",
              "                                        'max_depth': [10, 20, 30, 40, 50, 60,\n",
              "                                                      70, 80, 90, 100, 110,\n",
              "                                                      None],\n",
              "                                        'max_features': ['auto', 'sqrt'],\n",
              "                                        'min_samples_leaf': [1, 2, 4],\n",
              "                                        'min_samples_split': [2, 5, 10],\n",
              "                                        'n_estimators': [200, 400, 600, 800,\n",
              "                                                         1000, 1200, 1400, 1600,\n",
              "                                                         1800, 2000]},\n",
              "                   random_state=42, verbose=2)"
            ]
          },
          "execution_count": 72,
          "metadata": {},
          "output_type": "execute_result"
        }
      ],
      "source": [
        "# Use the random grid to search for best hyperparameters\n",
        "# First create the base model to tune\n",
        "rf = RandomForestClassifier()\n",
        "# Random search of parameters, using 3 fold cross validation, \n",
        "# search across 100 different combinations, and use all available cores\n",
        "rf_random = RandomizedSearchCV(estimator = rf, param_distributions = random_grid, n_iter = 100, cv = 3, verbose=2, random_state=42, n_jobs = -1)\n",
        "# Fit the random search model\n",
        "rf_random.fit(X_val, Y_val)"
      ]
    },
    {
      "cell_type": "code",
      "execution_count": null,
      "id": "00d2756f",
      "metadata": {
        "colab": {
          "base_uri": "https://localhost:8080/"
        },
        "id": "00d2756f",
        "outputId": "2c9ae907-434d-4ee4-c42d-3296c12a3528"
      },
      "outputs": [
        {
          "data": {
            "text/plain": [
              "{'n_estimators': 800,\n",
              " 'min_samples_split': 2,\n",
              " 'min_samples_leaf': 4,\n",
              " 'max_features': 'sqrt',\n",
              " 'max_depth': 90,\n",
              " 'bootstrap': True}"
            ]
          },
          "execution_count": 73,
          "metadata": {},
          "output_type": "execute_result"
        }
      ],
      "source": [
        "rf_random.best_params_"
      ]
    },
    {
      "cell_type": "code",
      "execution_count": null,
      "id": "b05bea2a",
      "metadata": {
        "colab": {
          "base_uri": "https://localhost:8080/"
        },
        "id": "b05bea2a",
        "outputId": "68d064dd-0faf-4a32-e157-9a46c6cd2873"
      },
      "outputs": [
        {
          "data": {
            "text/plain": [
              "RandomForestClassifier(max_depth=100, min_samples_leaf=4, min_samples_split=5,\n",
              "                       n_estimators=1000)"
            ]
          },
          "execution_count": 74,
          "metadata": {},
          "output_type": "execute_result"
        }
      ],
      "source": [
        "rfc = RandomForestClassifier(n_estimators = 1000,\n",
        " min_samples_split= 5,\n",
        " min_samples_leaf= 4,\n",
        " max_features= 'auto',\n",
        " max_depth= 100,\n",
        " bootstrap= True)\n",
        "rfc.fit(X_train,Y_train)"
      ]
    },
    {
      "cell_type": "code",
      "execution_count": null,
      "id": "uiOUJDFV-uVw",
      "metadata": {
        "colab": {
          "base_uri": "https://localhost:8080/",
          "height": 505
        },
        "id": "uiOUJDFV-uVw",
        "outputId": "d6271877-2148-4107-c1ac-0427e19ca493"
      },
      "outputs": [
        {
          "data": {
            "text/html": [
              "\n",
              "  <div id=\"df-62abcd67-af97-4c62-bd18-e7b2c81d9ed7\">\n",
              "    <div class=\"colab-df-container\">\n",
              "      <div>\n",
              "<style scoped>\n",
              "    .dataframe tbody tr th:only-of-type {\n",
              "        vertical-align: middle;\n",
              "    }\n",
              "\n",
              "    .dataframe tbody tr th {\n",
              "        vertical-align: top;\n",
              "    }\n",
              "\n",
              "    .dataframe thead th {\n",
              "        text-align: right;\n",
              "    }\n",
              "</style>\n",
              "<table border=\"1\" class=\"dataframe\">\n",
              "  <thead>\n",
              "    <tr style=\"text-align: right;\">\n",
              "      <th></th>\n",
              "      <th>decile_score</th>\n",
              "      <th>priors_count</th>\n",
              "      <th>is_violent_recid</th>\n",
              "      <th>sex_Female</th>\n",
              "      <th>sex_Male</th>\n",
              "      <th>age_cat_25 - 45</th>\n",
              "      <th>age_cat_Greater than 45</th>\n",
              "      <th>age_cat_Less than 25</th>\n",
              "      <th>race_African-American</th>\n",
              "      <th>race_Asian</th>\n",
              "      <th>race_Caucasian</th>\n",
              "      <th>race_Hispanic</th>\n",
              "      <th>race_Native American</th>\n",
              "      <th>race_Other</th>\n",
              "      <th>c_charge_degree_F</th>\n",
              "      <th>c_charge_degree_M</th>\n",
              "      <th>score_text_High</th>\n",
              "      <th>score_text_Low</th>\n",
              "      <th>score_text_Medium</th>\n",
              "    </tr>\n",
              "  </thead>\n",
              "  <tbody>\n",
              "    <tr>\n",
              "      <th>5399</th>\n",
              "      <td>6</td>\n",
              "      <td>3</td>\n",
              "      <td>0</td>\n",
              "      <td>0</td>\n",
              "      <td>1</td>\n",
              "      <td>1</td>\n",
              "      <td>0</td>\n",
              "      <td>0</td>\n",
              "      <td>0</td>\n",
              "      <td>0</td>\n",
              "      <td>1</td>\n",
              "      <td>0</td>\n",
              "      <td>0</td>\n",
              "      <td>0</td>\n",
              "      <td>1</td>\n",
              "      <td>0</td>\n",
              "      <td>0</td>\n",
              "      <td>0</td>\n",
              "      <td>1</td>\n",
              "    </tr>\n",
              "    <tr>\n",
              "      <th>5400</th>\n",
              "      <td>3</td>\n",
              "      <td>2</td>\n",
              "      <td>0</td>\n",
              "      <td>0</td>\n",
              "      <td>1</td>\n",
              "      <td>0</td>\n",
              "      <td>1</td>\n",
              "      <td>0</td>\n",
              "      <td>0</td>\n",
              "      <td>0</td>\n",
              "      <td>1</td>\n",
              "      <td>0</td>\n",
              "      <td>0</td>\n",
              "      <td>0</td>\n",
              "      <td>0</td>\n",
              "      <td>1</td>\n",
              "      <td>0</td>\n",
              "      <td>1</td>\n",
              "      <td>0</td>\n",
              "    </tr>\n",
              "    <tr>\n",
              "      <th>5401</th>\n",
              "      <td>1</td>\n",
              "      <td>6</td>\n",
              "      <td>0</td>\n",
              "      <td>0</td>\n",
              "      <td>1</td>\n",
              "      <td>1</td>\n",
              "      <td>0</td>\n",
              "      <td>0</td>\n",
              "      <td>1</td>\n",
              "      <td>0</td>\n",
              "      <td>0</td>\n",
              "      <td>0</td>\n",
              "      <td>0</td>\n",
              "      <td>0</td>\n",
              "      <td>1</td>\n",
              "      <td>0</td>\n",
              "      <td>0</td>\n",
              "      <td>1</td>\n",
              "      <td>0</td>\n",
              "    </tr>\n",
              "    <tr>\n",
              "      <th>5402</th>\n",
              "      <td>6</td>\n",
              "      <td>6</td>\n",
              "      <td>1</td>\n",
              "      <td>1</td>\n",
              "      <td>0</td>\n",
              "      <td>1</td>\n",
              "      <td>0</td>\n",
              "      <td>0</td>\n",
              "      <td>1</td>\n",
              "      <td>0</td>\n",
              "      <td>0</td>\n",
              "      <td>0</td>\n",
              "      <td>0</td>\n",
              "      <td>0</td>\n",
              "      <td>1</td>\n",
              "      <td>0</td>\n",
              "      <td>0</td>\n",
              "      <td>0</td>\n",
              "      <td>1</td>\n",
              "    </tr>\n",
              "    <tr>\n",
              "      <th>5403</th>\n",
              "      <td>9</td>\n",
              "      <td>5</td>\n",
              "      <td>0</td>\n",
              "      <td>0</td>\n",
              "      <td>1</td>\n",
              "      <td>0</td>\n",
              "      <td>0</td>\n",
              "      <td>1</td>\n",
              "      <td>1</td>\n",
              "      <td>0</td>\n",
              "      <td>0</td>\n",
              "      <td>0</td>\n",
              "      <td>0</td>\n",
              "      <td>0</td>\n",
              "      <td>1</td>\n",
              "      <td>0</td>\n",
              "      <td>1</td>\n",
              "      <td>0</td>\n",
              "      <td>0</td>\n",
              "    </tr>\n",
              "    <tr>\n",
              "      <th>...</th>\n",
              "      <td>...</td>\n",
              "      <td>...</td>\n",
              "      <td>...</td>\n",
              "      <td>...</td>\n",
              "      <td>...</td>\n",
              "      <td>...</td>\n",
              "      <td>...</td>\n",
              "      <td>...</td>\n",
              "      <td>...</td>\n",
              "      <td>...</td>\n",
              "      <td>...</td>\n",
              "      <td>...</td>\n",
              "      <td>...</td>\n",
              "      <td>...</td>\n",
              "      <td>...</td>\n",
              "      <td>...</td>\n",
              "      <td>...</td>\n",
              "      <td>...</td>\n",
              "      <td>...</td>\n",
              "    </tr>\n",
              "    <tr>\n",
              "      <th>7209</th>\n",
              "      <td>7</td>\n",
              "      <td>0</td>\n",
              "      <td>0</td>\n",
              "      <td>0</td>\n",
              "      <td>1</td>\n",
              "      <td>0</td>\n",
              "      <td>0</td>\n",
              "      <td>1</td>\n",
              "      <td>1</td>\n",
              "      <td>0</td>\n",
              "      <td>0</td>\n",
              "      <td>0</td>\n",
              "      <td>0</td>\n",
              "      <td>0</td>\n",
              "      <td>1</td>\n",
              "      <td>0</td>\n",
              "      <td>0</td>\n",
              "      <td>0</td>\n",
              "      <td>1</td>\n",
              "    </tr>\n",
              "    <tr>\n",
              "      <th>7210</th>\n",
              "      <td>3</td>\n",
              "      <td>0</td>\n",
              "      <td>0</td>\n",
              "      <td>0</td>\n",
              "      <td>1</td>\n",
              "      <td>0</td>\n",
              "      <td>0</td>\n",
              "      <td>1</td>\n",
              "      <td>1</td>\n",
              "      <td>0</td>\n",
              "      <td>0</td>\n",
              "      <td>0</td>\n",
              "      <td>0</td>\n",
              "      <td>0</td>\n",
              "      <td>1</td>\n",
              "      <td>0</td>\n",
              "      <td>0</td>\n",
              "      <td>1</td>\n",
              "      <td>0</td>\n",
              "    </tr>\n",
              "    <tr>\n",
              "      <th>7211</th>\n",
              "      <td>1</td>\n",
              "      <td>0</td>\n",
              "      <td>0</td>\n",
              "      <td>0</td>\n",
              "      <td>1</td>\n",
              "      <td>0</td>\n",
              "      <td>1</td>\n",
              "      <td>0</td>\n",
              "      <td>0</td>\n",
              "      <td>0</td>\n",
              "      <td>0</td>\n",
              "      <td>0</td>\n",
              "      <td>0</td>\n",
              "      <td>1</td>\n",
              "      <td>1</td>\n",
              "      <td>0</td>\n",
              "      <td>0</td>\n",
              "      <td>1</td>\n",
              "      <td>0</td>\n",
              "    </tr>\n",
              "    <tr>\n",
              "      <th>7212</th>\n",
              "      <td>2</td>\n",
              "      <td>3</td>\n",
              "      <td>0</td>\n",
              "      <td>1</td>\n",
              "      <td>0</td>\n",
              "      <td>1</td>\n",
              "      <td>0</td>\n",
              "      <td>0</td>\n",
              "      <td>1</td>\n",
              "      <td>0</td>\n",
              "      <td>0</td>\n",
              "      <td>0</td>\n",
              "      <td>0</td>\n",
              "      <td>0</td>\n",
              "      <td>0</td>\n",
              "      <td>1</td>\n",
              "      <td>0</td>\n",
              "      <td>1</td>\n",
              "      <td>0</td>\n",
              "    </tr>\n",
              "    <tr>\n",
              "      <th>7213</th>\n",
              "      <td>4</td>\n",
              "      <td>2</td>\n",
              "      <td>0</td>\n",
              "      <td>1</td>\n",
              "      <td>0</td>\n",
              "      <td>0</td>\n",
              "      <td>0</td>\n",
              "      <td>1</td>\n",
              "      <td>0</td>\n",
              "      <td>0</td>\n",
              "      <td>0</td>\n",
              "      <td>1</td>\n",
              "      <td>0</td>\n",
              "      <td>0</td>\n",
              "      <td>1</td>\n",
              "      <td>0</td>\n",
              "      <td>0</td>\n",
              "      <td>1</td>\n",
              "      <td>0</td>\n",
              "    </tr>\n",
              "  </tbody>\n",
              "</table>\n",
              "<p>1543 rows × 19 columns</p>\n",
              "</div>\n",
              "      <button class=\"colab-df-convert\" onclick=\"convertToInteractive('df-62abcd67-af97-4c62-bd18-e7b2c81d9ed7')\"\n",
              "              title=\"Convert this dataframe to an interactive table.\"\n",
              "              style=\"display:none;\">\n",
              "        \n",
              "  <svg xmlns=\"http://www.w3.org/2000/svg\" height=\"24px\"viewBox=\"0 0 24 24\"\n",
              "       width=\"24px\">\n",
              "    <path d=\"M0 0h24v24H0V0z\" fill=\"none\"/>\n",
              "    <path d=\"M18.56 5.44l.94 2.06.94-2.06 2.06-.94-2.06-.94-.94-2.06-.94 2.06-2.06.94zm-11 1L8.5 8.5l.94-2.06 2.06-.94-2.06-.94L8.5 2.5l-.94 2.06-2.06.94zm10 10l.94 2.06.94-2.06 2.06-.94-2.06-.94-.94-2.06-.94 2.06-2.06.94z\"/><path d=\"M17.41 7.96l-1.37-1.37c-.4-.4-.92-.59-1.43-.59-.52 0-1.04.2-1.43.59L10.3 9.45l-7.72 7.72c-.78.78-.78 2.05 0 2.83L4 21.41c.39.39.9.59 1.41.59.51 0 1.02-.2 1.41-.59l7.78-7.78 2.81-2.81c.8-.78.8-2.07 0-2.86zM5.41 20L4 18.59l7.72-7.72 1.47 1.35L5.41 20z\"/>\n",
              "  </svg>\n",
              "      </button>\n",
              "      \n",
              "  <style>\n",
              "    .colab-df-container {\n",
              "      display:flex;\n",
              "      flex-wrap:wrap;\n",
              "      gap: 12px;\n",
              "    }\n",
              "\n",
              "    .colab-df-convert {\n",
              "      background-color: #E8F0FE;\n",
              "      border: none;\n",
              "      border-radius: 50%;\n",
              "      cursor: pointer;\n",
              "      display: none;\n",
              "      fill: #1967D2;\n",
              "      height: 32px;\n",
              "      padding: 0 0 0 0;\n",
              "      width: 32px;\n",
              "    }\n",
              "\n",
              "    .colab-df-convert:hover {\n",
              "      background-color: #E2EBFA;\n",
              "      box-shadow: 0px 1px 2px rgba(60, 64, 67, 0.3), 0px 1px 3px 1px rgba(60, 64, 67, 0.15);\n",
              "      fill: #174EA6;\n",
              "    }\n",
              "\n",
              "    [theme=dark] .colab-df-convert {\n",
              "      background-color: #3B4455;\n",
              "      fill: #D2E3FC;\n",
              "    }\n",
              "\n",
              "    [theme=dark] .colab-df-convert:hover {\n",
              "      background-color: #434B5C;\n",
              "      box-shadow: 0px 1px 3px 1px rgba(0, 0, 0, 0.15);\n",
              "      filter: drop-shadow(0px 1px 2px rgba(0, 0, 0, 0.3));\n",
              "      fill: #FFFFFF;\n",
              "    }\n",
              "  </style>\n",
              "\n",
              "      <script>\n",
              "        const buttonEl =\n",
              "          document.querySelector('#df-62abcd67-af97-4c62-bd18-e7b2c81d9ed7 button.colab-df-convert');\n",
              "        buttonEl.style.display =\n",
              "          google.colab.kernel.accessAllowed ? 'block' : 'none';\n",
              "\n",
              "        async function convertToInteractive(key) {\n",
              "          const element = document.querySelector('#df-62abcd67-af97-4c62-bd18-e7b2c81d9ed7');\n",
              "          const dataTable =\n",
              "            await google.colab.kernel.invokeFunction('convertToInteractive',\n",
              "                                                     [key], {});\n",
              "          if (!dataTable) return;\n",
              "\n",
              "          const docLinkHtml = 'Like what you see? Visit the ' +\n",
              "            '<a target=\"_blank\" href=https://colab.research.google.com/notebooks/data_table.ipynb>data table notebook</a>'\n",
              "            + ' to learn more about interactive tables.';\n",
              "          element.innerHTML = '';\n",
              "          dataTable['output_type'] = 'display_data';\n",
              "          await google.colab.output.renderOutput(dataTable, element);\n",
              "          const docLink = document.createElement('div');\n",
              "          docLink.innerHTML = docLinkHtml;\n",
              "          element.appendChild(docLink);\n",
              "        }\n",
              "      </script>\n",
              "    </div>\n",
              "  </div>\n",
              "  "
            ],
            "text/plain": [
              "      decile_score  priors_count  is_violent_recid  sex_Female  sex_Male  \\\n",
              "5399             6             3                 0           0         1   \n",
              "5400             3             2                 0           0         1   \n",
              "5401             1             6                 0           0         1   \n",
              "5402             6             6                 1           1         0   \n",
              "5403             9             5                 0           0         1   \n",
              "...            ...           ...               ...         ...       ...   \n",
              "7209             7             0                 0           0         1   \n",
              "7210             3             0                 0           0         1   \n",
              "7211             1             0                 0           0         1   \n",
              "7212             2             3                 0           1         0   \n",
              "7213             4             2                 0           1         0   \n",
              "\n",
              "      age_cat_25 - 45  age_cat_Greater than 45  age_cat_Less than 25  \\\n",
              "5399                1                        0                     0   \n",
              "5400                0                        1                     0   \n",
              "5401                1                        0                     0   \n",
              "5402                1                        0                     0   \n",
              "5403                0                        0                     1   \n",
              "...               ...                      ...                   ...   \n",
              "7209                0                        0                     1   \n",
              "7210                0                        0                     1   \n",
              "7211                0                        1                     0   \n",
              "7212                1                        0                     0   \n",
              "7213                0                        0                     1   \n",
              "\n",
              "      race_African-American  race_Asian  race_Caucasian  race_Hispanic  \\\n",
              "5399                      0           0               1              0   \n",
              "5400                      0           0               1              0   \n",
              "5401                      1           0               0              0   \n",
              "5402                      1           0               0              0   \n",
              "5403                      1           0               0              0   \n",
              "...                     ...         ...             ...            ...   \n",
              "7209                      1           0               0              0   \n",
              "7210                      1           0               0              0   \n",
              "7211                      0           0               0              0   \n",
              "7212                      1           0               0              0   \n",
              "7213                      0           0               0              1   \n",
              "\n",
              "      race_Native American  race_Other  c_charge_degree_F  c_charge_degree_M  \\\n",
              "5399                     0           0                  1                  0   \n",
              "5400                     0           0                  0                  1   \n",
              "5401                     0           0                  1                  0   \n",
              "5402                     0           0                  1                  0   \n",
              "5403                     0           0                  1                  0   \n",
              "...                    ...         ...                ...                ...   \n",
              "7209                     0           0                  1                  0   \n",
              "7210                     0           0                  1                  0   \n",
              "7211                     0           1                  1                  0   \n",
              "7212                     0           0                  0                  1   \n",
              "7213                     0           0                  1                  0   \n",
              "\n",
              "      score_text_High  score_text_Low  score_text_Medium  \n",
              "5399                0               0                  1  \n",
              "5400                0               1                  0  \n",
              "5401                0               1                  0  \n",
              "5402                0               0                  1  \n",
              "5403                1               0                  0  \n",
              "...               ...             ...                ...  \n",
              "7209                0               0                  1  \n",
              "7210                0               1                  0  \n",
              "7211                0               1                  0  \n",
              "7212                0               1                  0  \n",
              "7213                0               1                  0  \n",
              "\n",
              "[1543 rows x 19 columns]"
            ]
          },
          "execution_count": 91,
          "metadata": {},
          "output_type": "execute_result"
        }
      ],
      "source": [
        "X_test"
      ]
    },
    {
      "cell_type": "code",
      "execution_count": null,
      "id": "ebd51726",
      "metadata": {
        "colab": {
          "base_uri": "https://localhost:8080/"
        },
        "id": "ebd51726",
        "outputId": "0da47c7b-b079-454c-a85c-b4f05b272d66"
      },
      "outputs": [
        {
          "data": {
            "text/plain": [
              "0.27025275437459495"
            ]
          },
          "execution_count": 92,
          "metadata": {},
          "output_type": "execute_result"
        }
      ],
      "source": [
        "pred_rfc = rfc.predict(X_test)\n",
        "np.sum(pred_rfc != Y_test.to_numpy().flatten()) / len(Y_test)"
      ]
    },
    {
      "cell_type": "code",
      "execution_count": null,
      "id": "a1a95e27-b725-41c6-aefc-5033cee75af9",
      "metadata": {
        "colab": {
          "base_uri": "https://localhost:8080/",
          "height": 581
        },
        "id": "a1a95e27-b725-41c6-aefc-5033cee75af9",
        "outputId": "fb1a51ee-a473-45de-d54d-47c00a7ab4b0"
      },
      "outputs": [
        {
          "data": {
            "image/png": "[encoded data removed]",
            "text/plain": [
              "<Figure size 1080x576 with 1 Axes>"
            ]
          },
          "metadata": {},
          "output_type": "display_data"
        }
      ],
      "source": [
        "importance = rdc.feature_importances_\n",
        "sorted_indices = np.argsort(importance)[::-1]\n",
        "plt.title('Feature Importance')\n",
        "plt.bar(range(X.shape[1]), importance[sorted_indices], align='center')\n",
        "plt.xticks(range(X.shape[1]), X.columns[sorted_indices], rotation=90)\n",
        "plt.tight_layout()\n",
        "plt.show()"
      ]
    },
    {
      "cell_type": "code",
      "execution_count": null,
      "id": "5e86cdb6-0d97-401f-89dc-41c1032e8260",
      "metadata": {
        "colab": {
          "base_uri": "https://localhost:8080/"
        },
        "id": "5e86cdb6-0d97-401f-89dc-41c1032e8260",
        "outputId": "6a59f965-1fe5-40b8-bc48-a3f253722459"
      },
      "outputs": [
        {
          "data": {
            "text/plain": [
              "1    802\n",
              "0    741\n",
              "Name: race_African-American, dtype: int64"
            ]
          },
          "execution_count": 77,
          "metadata": {},
          "output_type": "execute_result"
        }
      ],
      "source": [
        "X_test['race_African-American'].value_counts()"
      ]
    },
    {
      "cell_type": "code",
      "execution_count": null,
      "id": "fbf54ee3-469c-429e-b384-b443091ce202",
      "metadata": {
        "id": "fbf54ee3-469c-429e-b384-b443091ce202"
      },
      "outputs": [],
      "source": [
        "X_test1 = X_test.copy()\n",
        "X_test1['pred']=pred_rfc"
      ]
    },
    {
      "cell_type": "code",
      "execution_count": null,
      "id": "08a7247a-e234-47a8-8fee-20f386297299",
      "metadata": {
        "colab": {
          "base_uri": "https://localhost:8080/"
        },
        "id": "08a7247a-e234-47a8-8fee-20f386297299",
        "outputId": "1fc89a6c-6a95-437b-e218-1a3d810c9d13"
      },
      "outputs": [
        {
          "data": {
            "text/plain": [
              "398"
            ]
          },
          "execution_count": 79,
          "metadata": {},
          "output_type": "execute_result"
        }
      ],
      "source": [
        "len(X_test1[(X_test1['pred']==1) & X_test1['race_African-American']==1])"
      ]
    },
    {
      "cell_type": "code",
      "execution_count": null,
      "id": "8fc49332-304a-46f4-b9c3-b47960dfb83a",
      "metadata": {
        "colab": {
          "base_uri": "https://localhost:8080/"
        },
        "id": "8fc49332-304a-46f4-b9c3-b47960dfb83a",
        "outputId": "54900a38-0d18-449a-e699-8bf478f8f648"
      },
      "outputs": [
        {
          "data": {
            "text/plain": [
              "2"
            ]
          },
          "execution_count": 80,
          "metadata": {},
          "output_type": "execute_result"
        }
      ],
      "source": [
        "len(X_test1[(X_test1['pred']==1) & X_test1['race_Asian']==1])"
      ]
    },
    {
      "cell_type": "code",
      "execution_count": null,
      "id": "2c7228d8-fec5-4fc1-9d56-6dd1fefb75c7",
      "metadata": {
        "colab": {
          "base_uri": "https://localhost:8080/"
        },
        "id": "2c7228d8-fec5-4fc1-9d56-6dd1fefb75c7",
        "outputId": "1dc2a8db-6da9-44a3-f8d7-1184f24b7cc0"
      },
      "outputs": [
        {
          "data": {
            "text/plain": [
              "141"
            ]
          },
          "execution_count": 81,
          "metadata": {},
          "output_type": "execute_result"
        }
      ],
      "source": [
        "len(X_test1[(X_test1['pred']==1) & X_test1['race_Caucasian']==1])"
      ]
    },
    {
      "cell_type": "code",
      "execution_count": null,
      "id": "d9420e90-d277-47be-a825-54765050ddbf",
      "metadata": {
        "colab": {
          "base_uri": "https://localhost:8080/"
        },
        "id": "d9420e90-d277-47be-a825-54765050ddbf",
        "outputId": "9fed1914-ca70-42a1-baf8-46f6a0dfac2e"
      },
      "outputs": [
        {
          "data": {
            "text/plain": [
              "37"
            ]
          },
          "execution_count": 82,
          "metadata": {},
          "output_type": "execute_result"
        }
      ],
      "source": [
        "len(X_test1[(X_test1['pred']==1) & X_test1['race_Hispanic']==1])"
      ]
    },
    {
      "cell_type": "code",
      "execution_count": null,
      "id": "4b86a5c1-dd96-4e30-967a-5a7b865d63ea",
      "metadata": {
        "colab": {
          "base_uri": "https://localhost:8080/"
        },
        "id": "4b86a5c1-dd96-4e30-967a-5a7b865d63ea",
        "outputId": "2d9ef574-7772-455f-b0ef-5bbc5854fe26"
      },
      "outputs": [
        {
          "data": {
            "text/plain": [
              "3"
            ]
          },
          "execution_count": 83,
          "metadata": {},
          "output_type": "execute_result"
        }
      ],
      "source": [
        "len(X_test1[(X_test1['pred']==1) & X_test1['race_Native American']==1])"
      ]
    },
    {
      "cell_type": "code",
      "execution_count": null,
      "id": "94b250b2-30bb-42bc-a332-008fdbba29ed",
      "metadata": {
        "colab": {
          "base_uri": "https://localhost:8080/"
        },
        "id": "94b250b2-30bb-42bc-a332-008fdbba29ed",
        "outputId": "b1167c82-716b-4b5e-f44f-2e8c14e5bba1"
      },
      "outputs": [
        {
          "data": {
            "text/plain": [
              "15"
            ]
          },
          "execution_count": 84,
          "metadata": {},
          "output_type": "execute_result"
        }
      ],
      "source": [
        "len(X_test1[(X_test1['pred']==1) & X_test1['race_Other']==1])"
      ]
    },
    {
      "cell_type": "code",
      "execution_count": null,
      "id": "32b1616c-c5ff-444a-9491-9b35e61d5c97",
      "metadata": {
        "colab": {
          "base_uri": "https://localhost:8080/"
        },
        "id": "32b1616c-c5ff-444a-9491-9b35e61d5c97",
        "outputId": "ed07f831-06fe-4111-de70-d16eca13454d"
      },
      "outputs": [
        {
          "data": {
            "text/plain": [
              "37"
            ]
          },
          "execution_count": 85,
          "metadata": {},
          "output_type": "execute_result"
        }
      ],
      "source": [
        "len(X_test1[(X_test1['pred']==1) & X_test1['race_Hispanic']==1])"
      ]
    },
    {
      "cell_type": "code",
      "execution_count": null,
      "id": "26cca8fc-e8a2-43f0-8c6f-9219d8cdaf90",
      "metadata": {
        "colab": {
          "base_uri": "https://localhost:8080/"
        },
        "id": "26cca8fc-e8a2-43f0-8c6f-9219d8cdaf90",
        "outputId": "e6e65145-44d8-4643-e4df-129d2342594c"
      },
      "outputs": [
        {
          "data": {
            "text/plain": [
              "0    947\n",
              "1    596\n",
              "Name: pred, dtype: int64"
            ]
          },
          "execution_count": 86,
          "metadata": {},
          "output_type": "execute_result"
        }
      ],
      "source": [
        "X_test1.pred.value_counts()"
      ]
    },
    {
      "cell_type": "code",
      "execution_count": null,
      "id": "LrfOHeJA0Lja",
      "metadata": {
        "colab": {
          "base_uri": "https://localhost:8080/"
        },
        "id": "LrfOHeJA0Lja",
        "outputId": "5413e382-7638-49da-8345-d136dba85c7a"
      },
      "outputs": [
        {
          "name": "stdout",
          "output_type": "stream",
          "text": [
            "0.7416107382550335\n",
            "0.6269503546099291\n",
            "0.679477325134512\n",
            "0.729747245625405\n"
          ]
        }
      ],
      "source": [
        "from sklearn.metrics import precision_score\n",
        "from sklearn.metrics import recall_score\n",
        "from sklearn.metrics import accuracy_score\n",
        "from sklearn.metrics import f1_score\n",
        "#random forest\n",
        "precision = precision_score(Y_test, pred_rfc, average='binary')\n",
        "recall = recall_score(Y_test, pred_rfc, average='binary')\n",
        "accuracy = accuracy_score(Y_test, pred_rfc)\n",
        "f1 = f1_score(Y_test, pred_rfc, average='binary')\n",
        "print(precision)\n",
        "print(recall)\n",
        "print(f1)\n",
        "print(accuracy)"
      ]
    },
    {
      "cell_type": "code",
      "execution_count": null,
      "id": "5mTfnnvZ7FY6",
      "metadata": {
        "id": "5mTfnnvZ7FY6"
      },
      "outputs": [],
      "source": [
        "from joblib import Parallel, delayed\n",
        "import joblib"
      ]
    },
    {
      "cell_type": "code",
      "execution_count": null,
      "id": "hAL0Mc4_7Glt",
      "metadata": {
        "colab": {
          "base_uri": "https://localhost:8080/"
        },
        "id": "hAL0Mc4_7Glt",
        "outputId": "7b0c0fe6-081b-4023-cceb-04d849ad6ced"
      },
      "outputs": [
        {
          "data": {
            "text/plain": [
              "['RFC_Prison.pkl']"
            ]
          },
          "execution_count": 90,
          "metadata": {},
          "output_type": "execute_result"
        }
      ],
      "source": [
        "joblib.dump(rfc, 'RFC_Prison.pkl')"
      ]
    },
    {
      "cell_type": "code",
      "execution_count": null,
      "id": "H7-qc2uV7VV6",
      "metadata": {
        "colab": {
          "base_uri": "https://localhost:8080/",
          "height": 217
        },
        "id": "H7-qc2uV7VV6",
        "outputId": "0a7578cc-d1df-4bcc-dff6-6df6bdcd367e"
      },
      "outputs": [
        {
          "ename": "NameError",
          "evalue": "ignored",
          "output_type": "error",
          "traceback": [
            "\u001b[0;31m---------------------------------------------------------------------------\u001b[0m",
            "\u001b[0;31mNameError\u001b[0m                                 Traceback (most recent call last)",
            "\u001b[0;32m<ipython-input-94-29306fe346fa>\u001b[0m in \u001b[0;36m<module>\u001b[0;34m\u001b[0m\n\u001b[0;32m----> 1\u001b[0;31m \u001b[0mdf\u001b[0m \u001b[0;34m=\u001b[0m \u001b[0mpd\u001b[0m\u001b[0;34m.\u001b[0m\u001b[0mDataFrame\u001b[0m\u001b[0;34m(\u001b[0m\u001b[0;34m{\u001b[0m\u001b[0;34m'decile'\u001b[0m\u001b[0;34m:\u001b[0m\u001b[0;34m[\u001b[0m\u001b[0mdecile\u001b[0m\u001b[0;34m]\u001b[0m\u001b[0;34m,\u001b[0m\u001b[0;34m'priors_count'\u001b[0m\u001b[0;34m:\u001b[0m\u001b[0;34m[\u001b[0m\u001b[0mpriors\u001b[0m\u001b[0;34m]\u001b[0m\u001b[0;34m,\u001b[0m\u001b[0;34m'is_violent_recid'\u001b[0m\u001b[0;34m:\u001b[0m\u001b[0;34m[\u001b[0m\u001b[0misviolent\u001b[0m\u001b[0;34m]\u001b[0m\u001b[0;34m,\u001b[0m\u001b[0;34m'sex_Female'\u001b[0m\u001b[0;34m:\u001b[0m\u001b[0;34m[\u001b[0m\u001b[0msex_Female\u001b[0m\u001b[0;34m]\u001b[0m\u001b[0;34m,\u001b[0m\u001b[0;34m'sex_Male'\u001b[0m\u001b[0;34m:\u001b[0m\u001b[0;34m[\u001b[0m\u001b[0msex_Male\u001b[0m\u001b[0;34m]\u001b[0m\u001b[0;34m,\u001b[0m\u001b[0;34m'age_cat_25 - 45'\u001b[0m\u001b[0;34m:\u001b[0m\u001b[0;34m[\u001b[0m\u001b[0mage_cat_25_45\u001b[0m\u001b[0;34m]\u001b[0m\u001b[0;34m,\u001b[0m\u001b[0;34m'age_cat_Greater than 45'\u001b[0m\u001b[0;34m:\u001b[0m\u001b[0;34m[\u001b[0m\u001b[0mage_cat_Greater\u001b[0m\u001b[0;34m]\u001b[0m\u001b[0;34m,\u001b[0m\u001b[0;34m'age_cat_Less than 25'\u001b[0m\u001b[0;34m:\u001b[0m\u001b[0;34m[\u001b[0m\u001b[0mage_cat_Less\u001b[0m\u001b[0;34m]\u001b[0m\u001b[0;34m,\u001b[0m\u001b[0;34m'race_African-American'\u001b[0m\u001b[0;34m:\u001b[0m\u001b[0;34m[\u001b[0m\u001b[0mrace_AfricanAmerican\u001b[0m\u001b[0;34m]\u001b[0m\u001b[0;34m,\u001b[0m\u001b[0;34m'race_Asian'\u001b[0m\u001b[0;34m:\u001b[0m\u001b[0;34m[\u001b[0m\u001b[0mrace_Asian\u001b[0m\u001b[0;34m]\u001b[0m\u001b[0;34m,\u001b[0m\u001b[0;34m'race_Caucasian'\u001b[0m\u001b[0;34m:\u001b[0m\u001b[0;34m[\u001b[0m\u001b[0mrace_Caucasian\u001b[0m\u001b[0;34m]\u001b[0m\u001b[0;34m,\u001b[0m\u001b[0;34m'race_Hispanic'\u001b[0m\u001b[0;34m:\u001b[0m\u001b[0;34m[\u001b[0m\u001b[0mrace_Hispanic\u001b[0m\u001b[0;34m]\u001b[0m\u001b[0;34m,\u001b[0m\u001b[0;34m'race_Native'\u001b[0m\u001b[0;34m:\u001b[0m\u001b[0;34m[\u001b[0m\u001b[0mrace_NativeAmerican\u001b[0m\u001b[0;34m]\u001b[0m\u001b[0;34m,\u001b[0m\u001b[0;34m'race_Other'\u001b[0m\u001b[0;34m:\u001b[0m\u001b[0;34m[\u001b[0m\u001b[0mrace_Other\u001b[0m\u001b[0;34m]\u001b[0m\u001b[0;34m,\u001b[0m\u001b[0;34m'c_charge_degree_F'\u001b[0m\u001b[0;34m:\u001b[0m\u001b[0;34m[\u001b[0m\u001b[0mcharge_F\u001b[...\n\u001b[0m",
            "\u001b[0;31mNameError\u001b[0m: name 'decile' is not defined"
          ]
        }
      ],
      "source": [
        "df = pd.DataFrame({'decile':[decile],'priors_count':[priors],'is_violent_recid':[isviolent],'sex_Female':[sex_Female],'sex_Male':[sex_Male],'age_cat_25 - 45':[age_cat_25_45],'age_cat_Greater than 45':[age_cat_Greater],'age_cat_Less than 25':[age_cat_Less],'race_African-American':[race_AfricanAmerican],'race_Asian':[race_Asian],'race_Caucasian':[race_Caucasian],'race_Hispanic':[race_Hispanic],'race_Native':[race_NativeAmerican],'race_Other':[race_Other],'c_charge_degree_F':[charge_F],'c_charge_degree_M':[charge_M],'score_text_High':[score_H],'score_text_Low':[score_L],'score_text_Medium':[score_M]})\n"
      ]
    }
  ],
  "metadata": {
    "colab": {
      "provenance": []
    },
    "kernelspec": {
      "display_name": "Python 3",
      "language": "python",
      "name": "python3"
    },
    "language_info": {
      "codemirror_mode": {
        "name": "ipython",
        "version": 3
      },
      "file_extension": ".py",
      "mimetype": "text/x-python",
      "name": "python",
      "nbconvert_exporter": "python",
      "pygments_lexer": "ipython3",
      "version": "3.8.8"
    }
  },
  "nbformat": 4,
  "nbformat_minor": 5
}
